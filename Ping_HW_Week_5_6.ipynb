{
  "nbformat": 4,
  "nbformat_minor": 0,
  "metadata": {
    "colab": {
      "private_outputs": true,
      "provenance": [],
      "include_colab_link": true
    },
    "kernelspec": {
      "name": "python3",
      "display_name": "Python 3"
    },
    "language_info": {
      "name": "python"
    }
  },
  "cells": [
    {
      "cell_type": "markdown",
      "metadata": {
        "id": "view-in-github",
        "colab_type": "text"
      },
      "source": [
        "<a href=\"https://colab.research.google.com/github/pingjcole/Data110-2025Fall/blob/main/Ping_HW_Week_5_6.ipynb\" target=\"_parent\"><img src=\"https://colab.research.google.com/assets/colab-badge.svg\" alt=\"Open In Colab\"/></a>"
      ]
    },
    {
      "cell_type": "markdown",
      "source": [
        "# Importing libraries"
      ],
      "metadata": {
        "id": "oOD8QFuIqhrJ"
      }
    },
    {
      "cell_type": "code",
      "source": [
        "import pandas as pd\n",
        "import seaborn as sns\n",
        "import matplotlib.pyplot as plt\n",
        "# Question: how to change the vertical dimensions in the visualization, especially in task 4? I tried adjusting the figure size but it didn't work well.\n"
      ],
      "metadata": {
        "id": "eF2OW224p2x8"
      },
      "execution_count": null,
      "outputs": []
    },
    {
      "cell_type": "markdown",
      "source": [
        "# Task 1 — Dataset overview (5–6 sentences).\n",
        "Identify the variables you will use (survived, pclass, sex, age, fare, embark_town, sibsp, parch). briefly explain why these columns matter for your analysis.\n",
        "\n",
        "*  The important variables in this dataset are **survived**, **class**, **sex**, **fare**, and **age** which are shown below. Because we are analyzing the survival factors in the Titanic dataset, it's important to know these variables because:\n",
        "    * **Survived** says if a passenger lived or not, it is the main variable.\n",
        "    * **Class** is the passenger’s social status, which may be connected to their access to lifeboats and therefore their survival chances.\n",
        "    * **Sex** is important because women were more likely to survive because they are usually priorities during evacuations.\n",
        "    * **Fare** represents the ticket price each passenger paid for their trip, it shows their financial status decrepencies.\n",
        "    * **Age** is important for the same reason as sex, it helps determine whether younger passengers had better survival rates than older ones, such as kids.\n"
      ],
      "metadata": {
        "id": "pBxa2YEpquoC"
      }
    },
    {
      "cell_type": "code",
      "source": [
        "#Using Professor's note, \"Load the Titanic dataset directly from Seaborn\":\n",
        "titanic_df = sns.load_dataset('titanic')\n",
        "print(titanic_df.head())"
      ],
      "metadata": {
        "id": "5niVdBzIyM83"
      },
      "execution_count": null,
      "outputs": []
    },
    {
      "cell_type": "markdown",
      "source": [
        "# Task 2 — Fare distribution (histogram + KDE).\n",
        "Create a histogram and a KDE of fare. Discuss right-skew, outliers, and a socioeconomic interpretation.\n",
        "\n",
        "*Interpretation\n",
        "\n",
        "* The fare distribution is skewed towards lower fares, only a smaller number of people paid very high fares.\n",
        "* The highest density area is at the lower fare range, meaning that most of the passengers 3rd class passengers.\n",
        "* The outliers are at the high fare end of the graph, meaning only very few passengers could afford extremely high fares for 1st class.\n",
        "* This pattern represents the socioeconomic inequality aboard the Titanic: most passengers were traveling in cheaper cabins, while a small group paid premium prices for luxury travel. The more expensive cabins probably had better cabin locations and faster access to lifeboats, which may increase their chances of survival.\n"
      ],
      "metadata": {
        "id": "LFvxa5csmYIX"
      }
    },
    {
      "cell_type": "code",
      "source": [
        "plt.style.use('ggplot')\n",
        "plt.figure(figsize=(10, 8))\n",
        "plt.hist(titanic_df['fare'], bins=10, color='pink',edgecolor='white')\n",
        "plt.title('Fare Distribution of Titanic Passengers')\n",
        "plt.xlabel('Fare')\n",
        "plt.ylabel('Count')\n",
        "plt.grid(axis='x')\n",
        "plt.show()"
      ],
      "metadata": {
        "id": "d_qAx19fsdWE"
      },
      "execution_count": null,
      "outputs": []
    },
    {
      "cell_type": "code",
      "source": [
        "plt.style.use('ggplot')\n",
        "plt.figure(figsize=(10, 6))\n",
        "sns.kdeplot(titanic_df['fare'], bw_adjust=0.7, fill=True, color=\"pink\", alpha=0.7)\n",
        "plt.title('Fare Distribution of Titanic Passengers')\n",
        "plt.xlabel('Fare')\n",
        "plt.ylabel('Density')\n",
        "plt.grid(axis='x')\n",
        "plt.show()"
      ],
      "metadata": {
        "id": "Ki9bBu4Ltrqp"
      },
      "execution_count": null,
      "outputs": []
    },
    {
      "cell_type": "markdown",
      "source": [
        "# Task 3 — Fare × Survival (distribution comparison).\n",
        "Compare fare distributions for survived = 0 vs 1 (e.g., overlaid KDEs). Focus your interpretation on distribution shapes, not just means.\n",
        "\n",
        "# Interpretation:\n",
        "* The violin plot shape for non-survivors is narrower and denser at low fares, reflecting that most who did not survive were low class passengers.\n",
        "\n",
        "* The survivor distribution has a wider spread and a longer tail toward high fares, showing that more survivors came from higher fare classes.\n",
        "\n",
        "* The strip plot points show small clusters and a few extreme outliers at very high fares..\n",
        "\n",
        "* Together, these patterns suggest higher economic classes had better survival chances on the Titanic."
      ],
      "metadata": {
        "id": "NEGyq98MmZUs"
      }
    },
    {
      "cell_type": "code",
      "source": [],
      "metadata": {
        "id": "fGdCZnOSua4M"
      },
      "execution_count": null,
      "outputs": []
    },
    {
      "cell_type": "code",
      "source": [
        "plt.figure(figsize=(10, 9))\n",
        "\n",
        "sns.violinplot(data=titanic_df, x='survived', y='fare', palette=['tomato','DeepSkyBlue'])\n",
        "\n",
        "sns.stripplot(data=titanic_df, x='survived', y='fare', color='k', alpha=0.4, jitter=True, size=2)\n",
        "\n",
        "plt.xticks([0,1], ['Did Not Survive','Survived'])\n",
        "plt.title(\"Fare Distribution by Survival Status\")\n",
        "plt.xlabel(\"Survival Status\")\n",
        "plt.ylabel(\"Fare\")\n",
        "plt.show()"
      ],
      "metadata": {
        "id": "mXOukMp0ubXs"
      },
      "execution_count": null,
      "outputs": []
    },
    {
      "cell_type": "markdown",
      "source": [
        "#Task 4 — Boxplot across multiple groups (fare).\n",
        "Make a boxplot of fare grouped by pclass, with an additional split by sex. Interpret what differs across groups.\n",
        "\n",
        "* Interpretation:\n",
        "\n",
        "  The median fare gets lower from 1st class to 3rd, so it's obvious first-class passengers paid more. There are outliers all classes especially First Class, so some fares were extremely high. Another interesting thing is that females generally paid higher on average than males, probably because they wanted fancier cabins? These patterns mainly show socioeconomic distribution with the caveat of sex differences.\n",
        "\n",
        "  **Candace's suggestion to use 'palette' to customize colors was very useful!!"
      ],
      "metadata": {
        "id": "wc7TaTBoS0wq"
      }
    },
    {
      "cell_type": "code",
      "source": [
        "plt.figure(figsize=(10, 8))\n",
        "sns.boxplot(data=titanic_df, x='class', y='fare', hue= 'sex', palette=['lightblue', 'pink'])\n",
        "plt.title('Fare Distribution by Passenger Class and Sex')\n",
        "plt.xlabel('Passenger Class')\n",
        "plt.ylabel('Fare')\n",
        "plt.legend(title='Sex')\n",
        "plt.show()\n"
      ],
      "metadata": {
        "id": "GBi9n-srS0dd"
      },
      "execution_count": null,
      "outputs": []
    },
    {
      "cell_type": "markdown",
      "source": [
        "#Task 5 — Violin (age by sex).\n",
        "Create a violin plot of age by sex. State any meaningful differences and what they suggest.\n",
        "\n",
        "  *Interpretation:\n",
        "  \n",
        "  * Most female passengers were young because the age distribution is a little more concentrated around age 20. The male passengers were from different ages. This suggests that male passengers included a broader range of age groups, while females were more often younger adults. I'm not sure what this age difference means between the two sexes, maybe it means the younger women are more likely to have someone paying for their fare? Since it was during a time that women weren't commonly working and making high salaries so they were probably relying on men to pay for their tickets, like their families or pursuers."
      ],
      "metadata": {
        "id": "fZXC_8PcS1RA"
      }
    },
    {
      "cell_type": "code",
      "source": [
        "plt.figure(figsize=(8, 7))\n",
        "sns.violinplot(data=titanic_df, x='sex', y='age', palette=['lightblue', 'pink'])\n",
        "plt.title('Age Distribution by Sex on the Titanic')\n",
        "plt.xlabel('Sex')\n",
        "plt.ylabel('Age')\n",
        "plt.show()"
      ],
      "metadata": {
        "id": "bGsbt_AZS0UD"
      },
      "execution_count": null,
      "outputs": []
    },
    {
      "cell_type": "markdown",
      "source": [
        "#Task 6 — (A) Strip (detail on top of violin plot).\n",
        "Overlay individual observations to expose clusters and outliers. Explain what becomes visible with points that’s not obvious from the aggregate shape alone.\n",
        "\n",
        "  *Interpretation: The strip plot displays every individual data point, which shows clusters and outliers that the violin plot or box plot did not show. Such as the younger passengers of ages 20 to 30 were common in both males and females groups, and a few older male outliers that stand apart from the rest."
      ],
      "metadata": {
        "id": "tL5yXRtVS2b3"
      }
    },
    {
      "cell_type": "code",
      "source": [
        "plt.figure(figsize=(10, 8))\n",
        "sns.violinplot(data=titanic_df, x='sex', y='age', palette=['lightblue', 'pink'])\n",
        "sns.stripplot(data=titanic_df, x='sex', y='age', color='slategrey', jitter=True, alpha=0.6)\n",
        "plt.title('Individual Age Observations by Sex')\n",
        "plt.xlabel('Sex')\n",
        "plt.ylabel('Age')\n",
        "plt.show()"
      ],
      "metadata": {
        "id": "ak_TRMcpdVZc"
      },
      "execution_count": null,
      "outputs": []
    },
    {
      "cell_type": "markdown",
      "source": [
        "#Task 6 — (B) Strip (detail on top of box plot)."
      ],
      "metadata": {
        "id": "2f2huTZng2b2"
      }
    },
    {
      "cell_type": "code",
      "source": [
        "plt.figure(figsize=(10, 8))\n",
        "sns.boxplot(data=titanic_df, x='sex', y='age', palette=['lightblue', 'pink'])\n",
        "sns.stripplot(data=titanic_df, x='sex', y='age', color='slategrey', jitter=True,  alpha=0.6)\n",
        "\n",
        "plt.title('Age Distribution by Sex with Individual Observations')\n",
        "plt.xlabel('Sex')\n",
        "plt.ylabel('Age')\n",
        "plt.show()"
      ],
      "metadata": {
        "id": "zSImgLV_S0HA"
      },
      "execution_count": null,
      "outputs": []
    }
  ]
}